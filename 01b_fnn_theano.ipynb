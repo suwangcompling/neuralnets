{
 "cells": [
  {
   "cell_type": "markdown",
   "metadata": {
    "collapsed": true
   },
   "source": [
    "# CONTENT\n",
    "\n",
    "* **a. Basic FNN** <== UNDER CONSTRUCTION"
   ]
  },
  {
   "cell_type": "markdown",
   "metadata": {},
   "source": [
    "# Basic FNN"
   ]
  },
  {
   "cell_type": "markdown",
   "metadata": {},
   "source": [
    "### A. Code"
   ]
  },
  {
   "cell_type": "code",
   "execution_count": 586,
   "metadata": {
    "collapsed": true
   },
   "outputs": [],
   "source": [
    "import numpy as np"
   ]
  },
  {
   "cell_type": "code",
   "execution_count": 587,
   "metadata": {
    "collapsed": true
   },
   "outputs": [],
   "source": [
    "import theano\n",
    "from theano import shared\n",
    "import theano.tensor as T\n",
    "from theano.tensor.nnet import sigmoid, softmax"
   ]
  },
  {
   "cell_type": "code",
   "execution_count": 588,
   "metadata": {
    "collapsed": false
   },
   "outputs": [],
   "source": [
    "class Layer1:\n",
    "    \n",
    "    def __init__(self, bShape, wShape, activation=sigmoid):\n",
    "        assert len(bShape) == len(wShape) == 2 # bShape, wShape: (row, col) 2-tuples.\n",
    "        self.b = shared(np.asarray(np.random.normal(loc=0.,scale=1.,size=bShape),\n",
    "                                   dtype=theano.config.floatX), borrow=True)\n",
    "        self.w = shared(np.asarray(np.random.normal(loc=0.,scale=np.sqrt(1./wShape[0]),size=wShape),\n",
    "                                   dtype=theano.config.floatX), borrow=True)\n",
    "        self.params = [self.b, self.w]\n",
    "        self.activation = activation\n",
    "    \n",
    "    def activate(self, x):\n",
    "        z = T.dot(self.w, x) + self.b\n",
    "        return z if self.activation is None else self.activation(z)"
   ]
  },
  {
   "cell_type": "code",
   "execution_count": 589,
   "metadata": {
    "collapsed": false
   },
   "outputs": [],
   "source": [
    "class NNTheano1:\n",
    "    \n",
    "    def __init__(self, sizes, hiddenActivation=sigmoid, outputActivation=sigmoid):\n",
    "        self.numLayers = len(sizes)\n",
    "        assert self.numLayers >= 3 # must have at least 1 hidden layer.\n",
    "        self.layers = [ Layer1((nOut,1),(nOut,nIn),hiddenActivation) \n",
    "                        for nIn,nOut in zip(sizes[:-2],sizes[1:]) ]\n",
    "        self.layers.append(Layer1((sizes[-1],1),(sizes[-1],sizes[-2]),outputActivation))\n",
    "        self.params = []\n",
    "        for layer in self.layers:\n",
    "            self.params += layer.params\n",
    "        \n",
    "    def predict(self, a): # basically fwd. feeding.\n",
    "        for layer in self.layers:\n",
    "            a = layer.activate(a)\n",
    "        return a\n",
    "    \n",
    "    def cost(self, x, y):\n",
    "        return T.sum((self.predict(x)-y)**2)\n",
    "    \n",
    "    def train(self, X, Y, lr):\n",
    "        self.sgd(lr)\n",
    "        for x,y in zip(X,Y):\n",
    "            self.run(x,y)   \n",
    "    \n",
    "    def sgd(self, lr): # set up training symbolic graph.\n",
    "        inpt = T.matrix()\n",
    "        output = T.matrix()\n",
    "        cost = self.cost(inpt, output)\n",
    "        updates = []\n",
    "        for param in self.params:\n",
    "            updates.append((param, param-lr*T.grad(cost,param)))\n",
    "                # momentum version:\n",
    "                #  paramUpdate = shared(param.get_value()*0, broadcastable=param.broadcastable) \n",
    "                #  updates.append((param, param-lr*paramUpdate))\n",
    "                #  updates.append((paramUpdate, .9*paramUpdate + .1*T.grad(cost,param)))\n",
    "        self.run = theano.function([inpt, output], cost, updates=updates)\n",
    "            # f is a training function.\n",
    "    \n",
    "#     def evaluate(self, X, Y):\n",
    "#         assert self.run != None # make sure sgd has been run.\n",
    "#         correct = 0\n",
    "#         for x,y in zip(X,Y):\n",
    "            \n",
    "            \n"
   ]
  },
  {
   "cell_type": "markdown",
   "metadata": {},
   "source": [
    "### B. Toy Example: Logic Gate OR"
   ]
  },
  {
   "cell_type": "code",
   "execution_count": 590,
   "metadata": {
    "collapsed": false
   },
   "outputs": [],
   "source": [
    "# E.G. OR\n",
    "'''\n",
    "x y | lor\n",
    "0 0 | 0\n",
    "0 1 | 1\n",
    "1 0 | 1\n",
    "1 1 | 1\n",
    "'''\n",
    "xy1, lor1 = np.asarray([[0],[0]]), np.asarray([[0]])\n",
    "xy2, lor2 = np.asarray([[0],[1]]), np.asarray([[1]])\n",
    "xy3, lor3 = np.asarray([[1],[0]]), np.asarray([[1]])\n",
    "xy4, lor4 = np.asarray([[1],[1]]), np.asarray([[1]])"
   ]
  },
  {
   "cell_type": "code",
   "execution_count": 591,
   "metadata": {
    "collapsed": false
   },
   "outputs": [],
   "source": [
    "'''\n",
    "fnn: [2, 1, 1]\n",
    "'''\n",
    "fnn = NNTheano1([2,1,1])"
   ]
  },
  {
   "cell_type": "code",
   "execution_count": 592,
   "metadata": {
    "collapsed": false
   },
   "outputs": [
    {
     "data": {
      "text/plain": [
       "(2, 1)"
      ]
     },
     "execution_count": 592,
     "metadata": {},
     "output_type": "execute_result"
    }
   ],
   "source": [
    "xy1.shape"
   ]
  },
  {
   "cell_type": "code",
   "execution_count": 593,
   "metadata": {
    "collapsed": false
   },
   "outputs": [
    {
     "data": {
      "text/plain": [
       "(1, 1)"
      ]
     },
     "execution_count": 593,
     "metadata": {},
     "output_type": "execute_result"
    }
   ],
   "source": [
    "lor1.shape"
   ]
  },
  {
   "cell_type": "code",
   "execution_count": 594,
   "metadata": {
    "collapsed": false
   },
   "outputs": [],
   "source": [
    "X = [xy1, xy2, xy3, xy4]\n",
    "Y = [lor1, lor2, lor3, lor4]"
   ]
  },
  {
   "cell_type": "code",
   "execution_count": 595,
   "metadata": {
    "collapsed": false
   },
   "outputs": [
    {
     "name": "stdout",
     "output_type": "stream",
     "text": [
      "CPU times: user 23.6 s, sys: 299 ms, total: 23.9 s\n",
      "Wall time: 23.9 s\n"
     ]
    }
   ],
   "source": [
    "%%time\n",
    "fnn.sgd(3.)\n",
    "for _ in range(100):\n",
    "    fnn.train(X,Y,3.)"
   ]
  },
  {
   "cell_type": "code",
   "execution_count": 596,
   "metadata": {
    "collapsed": false
   },
   "outputs": [
    {
     "name": "stdout",
     "output_type": "stream",
     "text": [
      "OR Truth-Value Table\n",
      "0 0 | 0\n",
      "0 1 | 1\n",
      "1 0 | 1\n",
      "1 1 | 1\n"
     ]
    }
   ],
   "source": [
    "print \"OR Truth-Value Table\"\n",
    "print \"0 0 |\", \"0\" if fnn.predict(xy1).eval()[0][0] < .5 else \"1\"\n",
    "print \"0 1 |\", \"0\" if fnn.predict(xy2).eval()[0][0] < .5 else \"1\"\n",
    "print \"1 0 |\", \"0\" if fnn.predict(xy3).eval()[0][0] < .5 else \"1\"\n",
    "print \"1 1 |\", \"0\" if fnn.predict(xy4).eval()[0][0] < .5 else \"1\""
   ]
  },
  {
   "cell_type": "markdown",
   "metadata": {},
   "source": [
    "### C. MNIST"
   ]
  },
  {
   "cell_type": "code",
   "execution_count": 597,
   "metadata": {
    "collapsed": false
   },
   "outputs": [],
   "source": [
    "import os\n",
    "os.chdir(\"/Users/jacobsw/Desktop/IMPLEMENTATION_CAMP/CODE/BASIC_TOPICS/NN/DATA/neural-networks-and-deep-learning-master/src\")\n",
    "import mnist_loader # works when under '~/src' path.\n",
    "data_train, data_dev, data_test = mnist_loader.load_data_wrapper()"
   ]
  },
  {
   "cell_type": "code",
   "execution_count": 598,
   "metadata": {
    "collapsed": true
   },
   "outputs": [],
   "source": [
    "X_train = [datum[0] for datum in data_train]\n",
    "Y_train = [datum[1] for datum in data_train]"
   ]
  },
  {
   "cell_type": "code",
   "execution_count": 599,
   "metadata": {
    "collapsed": true
   },
   "outputs": [],
   "source": [
    "X_test = [datum[0] for datum in data_test]\n",
    "Y_test = [datum[1] for datum in data_test]"
   ]
  },
  {
   "cell_type": "code",
   "execution_count": 600,
   "metadata": {
    "collapsed": false
   },
   "outputs": [],
   "source": [
    "fnn = NNTheano1([784, 30, 10], hiddenActivation=sigmoid, outputActivation=softmax)"
   ]
  },
  {
   "cell_type": "code",
   "execution_count": 579,
   "metadata": {
    "collapsed": false
   },
   "outputs": [
    {
     "name": "stdout",
     "output_type": "stream",
     "text": [
      "CPU times: user 4.45 s, sys: 22.4 ms, total: 4.47 s\n",
      "Wall time: 4.47 s\n"
     ]
    }
   ],
   "source": [
    "%%time\n",
    "fnn.train(X_train,Y_train,3.0)"
   ]
  },
  {
   "cell_type": "code",
   "execution_count": 580,
   "metadata": {
    "collapsed": false
   },
   "outputs": [],
   "source": [
    "pred0 = fnn.predict(X_train[0])"
   ]
  },
  {
   "cell_type": "code",
   "execution_count": 583,
   "metadata": {
    "collapsed": false
   },
   "outputs": [
    {
     "data": {
      "text/plain": [
       "array([[ 0.],\n",
       "       [ 0.],\n",
       "       [ 0.],\n",
       "       [ 0.],\n",
       "       [ 0.],\n",
       "       [ 1.],\n",
       "       [ 0.],\n",
       "       [ 0.],\n",
       "       [ 0.],\n",
       "       [ 0.]])"
      ]
     },
     "execution_count": 583,
     "metadata": {},
     "output_type": "execute_result"
    }
   ],
   "source": [
    "Y_train[0]"
   ]
  },
  {
   "cell_type": "code",
   "execution_count": 584,
   "metadata": {
    "collapsed": false
   },
   "outputs": [
    {
     "data": {
      "text/plain": [
       "array([[ 1.],\n",
       "       [ 1.],\n",
       "       [ 1.],\n",
       "       [ 1.],\n",
       "       [ 1.],\n",
       "       [ 1.],\n",
       "       [ 1.],\n",
       "       [ 1.],\n",
       "       [ 1.],\n",
       "       [ 1.]])"
      ]
     },
     "execution_count": 584,
     "metadata": {},
     "output_type": "execute_result"
    }
   ],
   "source": [
    "pred0.eval()"
   ]
  },
  {
   "cell_type": "code",
   "execution_count": 569,
   "metadata": {
    "collapsed": false
   },
   "outputs": [
    {
     "data": {
      "text/plain": [
       "array([[ 0.25,  0.25,  0.25,  0.25]])"
      ]
     },
     "execution_count": 569,
     "metadata": {},
     "output_type": "execute_result"
    }
   ],
   "source": [
    "softmax(np.asarray([1,1,1,1],dtype=theano.config.floatX)).eval()"
   ]
  },
  {
   "cell_type": "code",
   "execution_count": 606,
   "metadata": {
    "collapsed": false
   },
   "outputs": [
    {
     "data": {
      "text/plain": [
       "array([[ 0.52157823],\n",
       "       [ 0.11648892],\n",
       "       [-0.30848819],\n",
       "       [ 1.2731928 ],\n",
       "       [-0.06909677],\n",
       "       [ 0.78818831],\n",
       "       [ 1.42269494],\n",
       "       [-0.15164546],\n",
       "       [-0.02529053],\n",
       "       [ 0.24647496]])"
      ]
     },
     "execution_count": 606,
     "metadata": {},
     "output_type": "execute_result"
    }
   ],
   "source": [
    "fnn.params[-2].eval()"
   ]
  },
  {
   "cell_type": "code",
   "execution_count": null,
   "metadata": {
    "collapsed": true
   },
   "outputs": [],
   "source": []
  },
  {
   "cell_type": "code",
   "execution_count": null,
   "metadata": {
    "collapsed": true
   },
   "outputs": [],
   "source": []
  },
  {
   "cell_type": "code",
   "execution_count": null,
   "metadata": {
    "collapsed": true
   },
   "outputs": [],
   "source": []
  },
  {
   "cell_type": "code",
   "execution_count": null,
   "metadata": {
    "collapsed": true
   },
   "outputs": [],
   "source": []
  },
  {
   "cell_type": "code",
   "execution_count": null,
   "metadata": {
    "collapsed": true
   },
   "outputs": [],
   "source": []
  }
 ],
 "metadata": {
  "kernelspec": {
   "display_name": "Python 2",
   "language": "python",
   "name": "python2"
  },
  "language_info": {
   "codemirror_mode": {
    "name": "ipython",
    "version": 2
   },
   "file_extension": ".py",
   "mimetype": "text/x-python",
   "name": "python",
   "nbconvert_exporter": "python",
   "pygments_lexer": "ipython2",
   "version": "2.7.11"
  }
 },
 "nbformat": 4,
 "nbformat_minor": 0
}
