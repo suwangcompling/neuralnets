{
 "cells": [
  {
   "cell_type": "markdown",
   "metadata": {},
   "source": [
    "# MNIST"
   ]
  },
  {
   "cell_type": "code",
   "execution_count": 2,
   "metadata": {
    "collapsed": false
   },
   "outputs": [],
   "source": [
    "from __future__ import print_function\n",
    "\n",
    "from keras.datasets import mnist\n",
    "from keras.models import Sequential\n",
    "from keras.layers import Dense, Activation\n",
    "from keras.layers import SimpleRNN\n",
    "from keras.initializations import normal, identity\n",
    "from keras.optimizers import RMSprop\n",
    "from keras.utils import np_utils"
   ]
  },
  {
   "cell_type": "code",
   "execution_count": 18,
   "metadata": {
    "collapsed": true
   },
   "outputs": [],
   "source": [
    "batch_size = 32\n",
    "nb_classes = 10\n",
    "nb_epochs = 5\n",
    "hidden_units = 100\n",
    "\n",
    "learning_rate = 1e-6\n",
    "clip_norm = 1.0"
   ]
  },
  {
   "cell_type": "code",
   "execution_count": 4,
   "metadata": {
    "collapsed": false
   },
   "outputs": [
    {
     "name": "stdout",
     "output_type": "stream",
     "text": [
      "X_train shape: (60000, 784, 1)\n",
      "60000 train samples\n",
      "10000 test samples\n"
     ]
    }
   ],
   "source": [
    "# the data, shuffled and split between train and test sets\n",
    "(X_train, y_train), (X_test, y_test) = mnist.load_data()\n",
    "\n",
    "X_train = X_train.reshape(X_train.shape[0], -1, 1)\n",
    "X_test = X_test.reshape(X_test.shape[0], -1, 1)\n",
    "X_train = X_train.astype('float32')\n",
    "X_test = X_test.astype('float32')\n",
    "X_train /= 255\n",
    "X_test /= 255\n",
    "print('X_train shape:', X_train.shape)\n",
    "print(X_train.shape[0], 'train samples')\n",
    "print(X_test.shape[0], 'test samples')"
   ]
  },
  {
   "cell_type": "code",
   "execution_count": 5,
   "metadata": {
    "collapsed": true
   },
   "outputs": [],
   "source": [
    "# convert class vectors to binary class matrices\n",
    "Y_train = np_utils.to_categorical(y_train, nb_classes)\n",
    "Y_test = np_utils.to_categorical(y_test, nb_classes)"
   ]
  },
  {
   "cell_type": "code",
   "execution_count": 29,
   "metadata": {
    "collapsed": false
   },
   "outputs": [
    {
     "data": {
      "text/plain": [
       "(784, 1)"
      ]
     },
     "execution_count": 29,
     "metadata": {},
     "output_type": "execute_result"
    }
   ],
   "source": [
    "X_train[0].shape"
   ]
  },
  {
   "cell_type": "code",
   "execution_count": 30,
   "metadata": {
    "collapsed": false
   },
   "outputs": [
    {
     "data": {
      "text/plain": [
       "(10,)"
      ]
     },
     "execution_count": 30,
     "metadata": {},
     "output_type": "execute_result"
    }
   ],
   "source": [
    "Y_train[0].shape"
   ]
  },
  {
   "cell_type": "code",
   "execution_count": 19,
   "metadata": {
    "collapsed": false
   },
   "outputs": [
    {
     "name": "stdout",
     "output_type": "stream",
     "text": [
      "Evaluate IRNN...\n",
      "____________________________________________________________________________________________________\n",
      "Layer (type)                       Output Shape        Param #     Connected to                     \n",
      "====================================================================================================\n",
      "simplernn_2 (SimpleRNN)            (None, 100)         10200       simplernn_input_2[0][0]          \n",
      "____________________________________________________________________________________________________\n",
      "dense_2 (Dense)                    (None, 10)          1010        simplernn_2[0][0]                \n",
      "____________________________________________________________________________________________________\n",
      "activation_2 (Activation)          (None, 10)          0           dense_2[0][0]                    \n",
      "====================================================================================================\n",
      "Total params: 11210\n",
      "____________________________________________________________________________________________________\n"
     ]
    }
   ],
   "source": [
    "print('Evaluate IRNN...')\n",
    "model = Sequential()\n",
    "model.add(SimpleRNN(output_dim=hidden_units,\n",
    "                   init=lambda shape, name: normal(shape, scale=0.001, name=name),\n",
    "                   inner_init=lambda shape, name: identity(shape, scale=1.0, name=name),\n",
    "                   activation='relu',\n",
    "                   input_shape=X_train.shape[1:]))\n",
    "model.add(Dense(nb_classes))\n",
    "model.add(Activation('softmax'))\n",
    "rmsprop = RMSprop(lr=learning_rate)\n",
    "model.compile(loss='categorical_crossentropy',\n",
    "             optimizer=rmsprop,\n",
    "             metrics=['accuracy'])\n",
    "\n",
    "model.summary()"
   ]
  },
  {
   "cell_type": "code",
   "execution_count": 26,
   "metadata": {
    "collapsed": false
   },
   "outputs": [
    {
     "name": "stdout",
     "output_type": "stream",
     "text": [
      "... epoch 1\n",
      "... epoch 2\n",
      "... epoch 3\n",
      "... epoch 4\n",
      "... epoch 5\n"
     ]
    }
   ],
   "source": [
    "import numpy as np\n",
    "for e in xrange(nb_epochs):\n",
    "    e += 1\n",
    "    print(\"... epoch %d\" % e)\n",
    "    for i in xrange(100):\n",
    "        model.train_on_batch(np.asarray([X_train[i]]),np.asarray([Y_train[i]]))"
   ]
  },
  {
   "cell_type": "code",
   "execution_count": 110,
   "metadata": {
    "collapsed": false
   },
   "outputs": [
    {
     "data": {
      "text/plain": [
       "(1, 140)"
      ]
     },
     "execution_count": 110,
     "metadata": {},
     "output_type": "execute_result"
    }
   ],
   "source": [
    "np.asarray([X_train[0]]).shape"
   ]
  },
  {
   "cell_type": "code",
   "execution_count": 109,
   "metadata": {
    "collapsed": false
   },
   "outputs": [
    {
     "data": {
      "text/plain": [
       "(1, 10)"
      ]
     },
     "execution_count": 109,
     "metadata": {},
     "output_type": "execute_result"
    }
   ],
   "source": [
    "np.asarray([Y_train[0]]).shape"
   ]
  },
  {
   "cell_type": "code",
   "execution_count": 15,
   "metadata": {
    "collapsed": false
   },
   "outputs": [],
   "source": [
    "# model.fit(X_train, Y_train, batch_size=batch_size, nb_epoch=nb_epochs,\n",
    "#          verbose=1, validation_data=(X_test, Y_test))\n",
    "\n",
    "# scores = model.evaluate(X_test, Y_test, verbose=0)\n",
    "# print('IRNN test score:', scores[0])\n",
    "# print('IRNN test accuracy:', scores[1])"
   ]
  },
  {
   "cell_type": "markdown",
   "metadata": {},
   "source": [
    "# IMDB"
   ]
  },
  {
   "cell_type": "code",
   "execution_count": 31,
   "metadata": {
    "collapsed": true
   },
   "outputs": [],
   "source": [
    "from __future__ import print_function\n",
    "import numpy as np\n",
    "np.random.seed(1337)  # for reproducibility"
   ]
  },
  {
   "cell_type": "code",
   "execution_count": 83,
   "metadata": {
    "collapsed": true
   },
   "outputs": [],
   "source": [
    "from keras.preprocessing import sequence\n",
    "from keras.utils import np_utils\n",
    "from keras.models import Sequential\n",
    "from keras.layers import Dense, Dropout, Activation, Embedding\n",
    "from keras.layers import LSTM, SimpleRNN, GRU, TimeDistributed\n",
    "from keras.datasets import imdb"
   ]
  },
  {
   "cell_type": "code",
   "execution_count": 71,
   "metadata": {
    "collapsed": true
   },
   "outputs": [],
   "source": [
    "max_features = 20000\n",
    "# maxlen = 80  # cut texts after this number of words (among top max_features most common words)\n",
    "# batch_size = 32\n",
    "nb_epochs = 1"
   ]
  },
  {
   "cell_type": "code",
   "execution_count": 72,
   "metadata": {
    "collapsed": false
   },
   "outputs": [
    {
     "name": "stdout",
     "output_type": "stream",
     "text": [
      "Loading data...\n",
      "20000 train sequences\n",
      "5000 test sequences\n"
     ]
    }
   ],
   "source": [
    "print('Loading data...')\n",
    "(X_train, y_train), (X_test, y_test) = imdb.load_data(nb_words=max_features,\n",
    "                                                      test_split=0.2)\n",
    "print(len(X_train), 'train sequences')\n",
    "print(len(X_test), 'test sequences')\n",
    "\n",
    "# print('Pad sequences (samples x time)')\n",
    "# X_train = sequence.pad_sequences(X_train, maxlen=maxlen)\n",
    "# X_test = sequence.pad_sequences(X_test, maxlen=maxlen)\n",
    "# print('X_train shape:', X_train.shape)\n",
    "# print('X_test shape:', X_test.shape)"
   ]
  },
  {
   "cell_type": "code",
   "execution_count": 73,
   "metadata": {
    "collapsed": false
   },
   "outputs": [],
   "source": [
    "X_train_array = map(np.asarray, X_train)"
   ]
  },
  {
   "cell_type": "code",
   "execution_count": 74,
   "metadata": {
    "collapsed": false
   },
   "outputs": [
    {
     "name": "stdout",
     "output_type": "stream",
     "text": [
      "(140,)\n",
      "(268,)\n",
      "(193,)\n",
      "(170,)\n",
      "(460,)\n"
     ]
    }
   ],
   "source": [
    "for i in xrange(5):\n",
    "    print(X_train_array[i].shape)"
   ]
  },
  {
   "cell_type": "code",
   "execution_count": null,
   "metadata": {
    "collapsed": false
   },
   "outputs": [],
   "source": []
  },
  {
   "cell_type": "code",
   "execution_count": 99,
   "metadata": {
    "collapsed": false
   },
   "outputs": [
    {
     "name": "stdout",
     "output_type": "stream",
     "text": [
      "Build model...\n",
      "____________________________________________________________________________________________________\n",
      "Layer (type)                       Output Shape        Param #     Connected to                     \n",
      "====================================================================================================\n",
      "embedding_8 (Embedding)            (None, None, 128)   2560000     embedding_input_8[0][0]          \n",
      "____________________________________________________________________________________________________\n",
      "simplernn_6 (SimpleRNN)            (None, 128)         32896       embedding_8[0][0]                \n",
      "____________________________________________________________________________________________________\n",
      "dense_10 (Dense)                   (None, 1)           129         simplernn_6[0][0]                \n",
      "____________________________________________________________________________________________________\n",
      "activation_9 (Activation)          (None, 1)           0           dense_10[0][0]                   \n",
      "====================================================================================================\n",
      "Total params: 2593025\n",
      "____________________________________________________________________________________________________\n"
     ]
    }
   ],
   "source": [
    "print('Build model...')\n",
    "model = Sequential()\n",
    "model.add(Embedding(max_features, 128, dropout=0.2))\n",
    "model.add(SimpleRNN(128, dropout_W=0.2, dropout_U=0.2))  # try using a GRU instead, for fun\n",
    "model.add(Dense(1))\n",
    "model.add(Activation('sigmoid'))\n",
    "\n",
    "# try using different optimizers and different optimizer configs\n",
    "model.compile(loss='binary_crossentropy',\n",
    "              optimizer='adam',\n",
    "              metrics=['accuracy'])\n",
    "model.summary()"
   ]
  },
  {
   "cell_type": "code",
   "execution_count": null,
   "metadata": {
    "collapsed": false
   },
   "outputs": [],
   "source": []
  },
  {
   "cell_type": "code",
   "execution_count": 101,
   "metadata": {
    "collapsed": false
   },
   "outputs": [
    {
     "data": {
      "text/plain": [
       "[array([[-0.02355493,  0.03775547,  0.04400666, ...,  0.02206854,\n",
       "          0.04706001, -0.04419404],\n",
       "        [ 0.01896344,  0.0287048 , -0.01062597, ..., -0.01697459,\n",
       "          0.00551123, -0.04316794],\n",
       "        [-0.0296558 ,  0.00680088, -0.00907463, ...,  0.02209495,\n",
       "         -0.00933748, -0.01761595],\n",
       "        ..., \n",
       "        [-0.00046353, -0.02349745,  0.01643985, ...,  0.00392914,\n",
       "         -0.04027422, -0.01190181],\n",
       "        [-0.02055955, -0.02201191, -0.01494761, ...,  0.03884822,\n",
       "         -0.03894757, -0.04079661],\n",
       "        [ 0.00656505,  0.02693819,  0.00667183, ...,  0.04668265,\n",
       "         -0.03533   ,  0.03377445]], dtype=float32),\n",
       " array([[ 0.1055688 , -0.12342519, -0.10878105, ..., -0.00858231,\n",
       "          0.12598683, -0.08081356],\n",
       "        [ 0.07604036,  0.10669979,  0.03297701, ..., -0.04051876,\n",
       "          0.1440569 ,  0.0638234 ],\n",
       "        [ 0.07991011,  0.14819762,  0.14840211, ...,  0.01174653,\n",
       "          0.14163351,  0.03934941],\n",
       "        ..., \n",
       "        [-0.10020792, -0.06925484,  0.01138791, ...,  0.06848623,\n",
       "          0.12117571,  0.14587529],\n",
       "        [ 0.12067605, -0.10643532,  0.10755361, ...,  0.06745242,\n",
       "          0.0967624 ,  0.08119407],\n",
       "        [-0.00116408, -0.13418286, -0.13536215, ..., -0.13212094,\n",
       "          0.06278499,  0.10535216]], dtype=float32),\n",
       " array([[ 0.02556936,  0.12567939,  0.04020951, ...,  0.0186987 ,\n",
       "          0.03472248,  0.07896332],\n",
       "        [-0.00639975, -0.09333945, -0.1591274 , ...,  0.01177547,\n",
       "          0.00694824, -0.15242068],\n",
       "        [ 0.03482193,  0.06527911,  0.11718065, ...,  0.12695593,\n",
       "          0.05113021,  0.00854839],\n",
       "        ..., \n",
       "        [ 0.15555914,  0.06921499, -0.19191848, ..., -0.01202604,\n",
       "          0.20726314, -0.04512591],\n",
       "        [ 0.03553907, -0.18279414,  0.10867734, ..., -0.00675386,\n",
       "         -0.04293685, -0.12998481],\n",
       "        [ 0.15411565,  0.18474658,  0.10567489, ...,  0.02874294,\n",
       "          0.02560794,  0.00602815]], dtype=float32),\n",
       " array([ 0.,  0.,  0.,  0.,  0.,  0.,  0.,  0.,  0.,  0.,  0.,  0.,  0.,\n",
       "         0.,  0.,  0.,  0.,  0.,  0.,  0.,  0.,  0.,  0.,  0.,  0.,  0.,\n",
       "         0.,  0.,  0.,  0.,  0.,  0.,  0.,  0.,  0.,  0.,  0.,  0.,  0.,\n",
       "         0.,  0.,  0.,  0.,  0.,  0.,  0.,  0.,  0.,  0.,  0.,  0.,  0.,\n",
       "         0.,  0.,  0.,  0.,  0.,  0.,  0.,  0.,  0.,  0.,  0.,  0.,  0.,\n",
       "         0.,  0.,  0.,  0.,  0.,  0.,  0.,  0.,  0.,  0.,  0.,  0.,  0.,\n",
       "         0.,  0.,  0.,  0.,  0.,  0.,  0.,  0.,  0.,  0.,  0.,  0.,  0.,\n",
       "         0.,  0.,  0.,  0.,  0.,  0.,  0.,  0.,  0.,  0.,  0.,  0.,  0.,\n",
       "         0.,  0.,  0.,  0.,  0.,  0.,  0.,  0.,  0.,  0.,  0.,  0.,  0.,\n",
       "         0.,  0.,  0.,  0.,  0.,  0.,  0.,  0.,  0.,  0.,  0.], dtype=float32),\n",
       " array([[ 0.13103701],\n",
       "        [ 0.07157592],\n",
       "        [-0.10410954],\n",
       "        [ 0.15500335],\n",
       "        [-0.09297907],\n",
       "        [-0.14974976],\n",
       "        [ 0.18056962],\n",
       "        [-0.04996749],\n",
       "        [-0.14956631],\n",
       "        [-0.15063895],\n",
       "        [-0.18752378],\n",
       "        [ 0.14074278],\n",
       "        [-0.09176465],\n",
       "        [ 0.16169798],\n",
       "        [ 0.1104942 ],\n",
       "        [-0.01707093],\n",
       "        [-0.08174427],\n",
       "        [-0.11591626],\n",
       "        [-0.07091495],\n",
       "        [ 0.14692546],\n",
       "        [ 0.02035213],\n",
       "        [-0.17128657],\n",
       "        [ 0.0799564 ],\n",
       "        [ 0.05350004],\n",
       "        [ 0.11577879],\n",
       "        [ 0.01336443],\n",
       "        [ 0.03912948],\n",
       "        [ 0.17656933],\n",
       "        [-0.15307507],\n",
       "        [-0.02554691],\n",
       "        [-0.11565769],\n",
       "        [ 0.02757542],\n",
       "        [ 0.00645893],\n",
       "        [ 0.16810538],\n",
       "        [-0.00987823],\n",
       "        [ 0.16573939],\n",
       "        [-0.16210955],\n",
       "        [ 0.07883923],\n",
       "        [-0.19656976],\n",
       "        [ 0.00921089],\n",
       "        [-0.05830407],\n",
       "        [ 0.08596545],\n",
       "        [-0.17790218],\n",
       "        [ 0.15558901],\n",
       "        [ 0.17223661],\n",
       "        [-0.08764053],\n",
       "        [-0.21419577],\n",
       "        [-0.04929459],\n",
       "        [ 0.15637577],\n",
       "        [-0.02000896],\n",
       "        [ 0.02112924],\n",
       "        [ 0.09288986],\n",
       "        [-0.05047215],\n",
       "        [-0.15063839],\n",
       "        [-0.09856602],\n",
       "        [-0.1981193 ],\n",
       "        [-0.19031756],\n",
       "        [ 0.04295254],\n",
       "        [ 0.20445895],\n",
       "        [-0.12105857],\n",
       "        [ 0.1530153 ],\n",
       "        [-0.01984328],\n",
       "        [-0.15268114],\n",
       "        [ 0.19395868],\n",
       "        [ 0.20811749],\n",
       "        [ 0.09605496],\n",
       "        [-0.09414583],\n",
       "        [ 0.10561077],\n",
       "        [ 0.05945588],\n",
       "        [-0.15626264],\n",
       "        [ 0.02921634],\n",
       "        [-0.06669547],\n",
       "        [ 0.21013829],\n",
       "        [ 0.13672394],\n",
       "        [ 0.14331669],\n",
       "        [ 0.12736011],\n",
       "        [-0.12531625],\n",
       "        [-0.09716616],\n",
       "        [ 0.17103983],\n",
       "        [ 0.13470662],\n",
       "        [-0.00773524],\n",
       "        [ 0.04121659],\n",
       "        [-0.17365815],\n",
       "        [-0.20639053],\n",
       "        [ 0.19307783],\n",
       "        [ 0.01338177],\n",
       "        [-0.20284584],\n",
       "        [ 0.05254605],\n",
       "        [ 0.00506336],\n",
       "        [ 0.16199845],\n",
       "        [-0.00550253],\n",
       "        [ 0.08830938],\n",
       "        [ 0.18381625],\n",
       "        [-0.18972646],\n",
       "        [-0.16247825],\n",
       "        [ 0.0780118 ],\n",
       "        [-0.07281969],\n",
       "        [-0.20953079],\n",
       "        [ 0.10999406],\n",
       "        [ 0.07406282],\n",
       "        [-0.13759848],\n",
       "        [-0.19186507],\n",
       "        [-0.18250519],\n",
       "        [ 0.15954052],\n",
       "        [ 0.02117379],\n",
       "        [-0.00409566],\n",
       "        [-0.16662171],\n",
       "        [-0.17251086],\n",
       "        [ 0.12725592],\n",
       "        [-0.20493397],\n",
       "        [-0.08445353],\n",
       "        [-0.12370671],\n",
       "        [-0.15712239],\n",
       "        [ 0.02391773],\n",
       "        [-0.19588512],\n",
       "        [ 0.14317617],\n",
       "        [ 0.13751514],\n",
       "        [ 0.04597384],\n",
       "        [-0.0675959 ],\n",
       "        [ 0.07439201],\n",
       "        [-0.06696268],\n",
       "        [ 0.10629317],\n",
       "        [ 0.11287861],\n",
       "        [ 0.02544719],\n",
       "        [-0.12018409],\n",
       "        [ 0.1087204 ],\n",
       "        [ 0.21469097],\n",
       "        [-0.04381884]], dtype=float32),\n",
       " array([ 0.], dtype=float32)]"
      ]
     },
     "execution_count": 101,
     "metadata": {},
     "output_type": "execute_result"
    }
   ],
   "source": [
    "model.get_weights()"
   ]
  },
  {
   "cell_type": "code",
   "execution_count": 103,
   "metadata": {
    "collapsed": false
   },
   "outputs": [
    {
     "name": "stdout",
     "output_type": "stream",
     "text": [
      "... epoch 1\n",
      "... processing sentence 1\n",
      "... processing sentence 2\n",
      "... processing sentence 3\n",
      "... processing sentence 4\n",
      "... processing sentence 5\n",
      "... processing sentence 6\n",
      "... processing sentence 7\n",
      "... processing sentence 8\n",
      "... processing sentence 9\n",
      "... processing sentence 10\n"
     ]
    }
   ],
   "source": [
    "import numpy as np\n",
    "for e in xrange(nb_epochs):\n",
    "    e += 1\n",
    "    print(\"... epoch %d\" % e)\n",
    "    for i in xrange(10):\n",
    "        print(\"... processing sentence %d\" % (i+1))\n",
    "        model.train_on_batch(np.asarray([X_train_array[i]]),np.asarray([y_train[i]]))"
   ]
  },
  {
   "cell_type": "code",
   "execution_count": 105,
   "metadata": {
    "collapsed": false
   },
   "outputs": [
    {
     "data": {
      "text/plain": [
       "(1, 140)"
      ]
     },
     "execution_count": 105,
     "metadata": {},
     "output_type": "execute_result"
    }
   ],
   "source": [
    "np.asarray([X_train_array[0]]).shape"
   ]
  },
  {
   "cell_type": "code",
   "execution_count": 106,
   "metadata": {
    "collapsed": false
   },
   "outputs": [
    {
     "data": {
      "text/plain": [
       "(1,)"
      ]
     },
     "execution_count": 106,
     "metadata": {},
     "output_type": "execute_result"
    }
   ],
   "source": [
    "np.asarray([y_train[0]]).shape"
   ]
  },
  {
   "cell_type": "code",
   "execution_count": 104,
   "metadata": {
    "collapsed": false
   },
   "outputs": [
    {
     "data": {
      "text/plain": [
       "[array([[-0.02355493,  0.03775547,  0.04400666, ...,  0.02206854,\n",
       "          0.04706001, -0.04419404],\n",
       "        [ 0.01370944,  0.03077123, -0.00727041, ..., -0.01355962,\n",
       "          0.00217738, -0.04649   ],\n",
       "        [-0.02992092,  0.00511273, -0.01397125, ...,  0.01638973,\n",
       "         -0.00536492, -0.01938026],\n",
       "        ..., \n",
       "        [-0.00046353, -0.02349745,  0.01643985, ...,  0.00392914,\n",
       "         -0.04027422, -0.01190181],\n",
       "        [-0.02055955, -0.02201191, -0.01494761, ...,  0.03884822,\n",
       "         -0.03894757, -0.04079661],\n",
       "        [ 0.00656505,  0.02693819,  0.00667183, ...,  0.04668265,\n",
       "         -0.03533   ,  0.03377445]], dtype=float32),\n",
       " array([[ 0.10890196, -0.11948258, -0.1114145 , ..., -0.00828316,\n",
       "          0.12316964, -0.07707916],\n",
       "        [ 0.07849296,  0.11122414,  0.02938139, ..., -0.04434482,\n",
       "          0.141849  ,  0.06142586],\n",
       "        [ 0.07868151,  0.14369197,  0.15295935, ...,  0.01617073,\n",
       "          0.14210127,  0.04175207],\n",
       "        ..., \n",
       "        [-0.09932148, -0.06436142,  0.01341396, ...,  0.07258443,\n",
       "          0.12467197,  0.14346829],\n",
       "        [ 0.11725848, -0.10445383,  0.10976774, ...,  0.06287967,\n",
       "          0.09760965,  0.07668747],\n",
       "        [ 0.00246974, -0.13487189, -0.13029999, ..., -0.1333809 ,\n",
       "          0.06605011,  0.1023497 ]], dtype=float32),\n",
       " array([[ 0.03021049,  0.12371594,  0.03938457, ...,  0.01339536,\n",
       "          0.03443344,  0.07971333],\n",
       "        [ 0.00045331, -0.09816803, -0.16383041, ...,  0.01514549,\n",
       "          0.00610597, -0.15483388],\n",
       "        [ 0.03246793,  0.06973974,  0.11260155, ...,  0.12939017,\n",
       "          0.0573411 ,  0.00600704],\n",
       "        ..., \n",
       "        [ 0.1599429 ,  0.06567159, -0.19559361, ..., -0.01580162,\n",
       "          0.21279319, -0.04866093],\n",
       "        [ 0.03389261, -0.17612298,  0.11005809, ..., -0.00757537,\n",
       "         -0.04165966, -0.12291296],\n",
       "        [ 0.1519758 ,  0.18939747,  0.10130896, ...,  0.03069085,\n",
       "          0.02029384,  0.00163684]], dtype=float32),\n",
       " array([ 0.00247651,  0.00451374, -0.00242252, -0.00195469,  0.00415656,\n",
       "        -0.000241  , -0.00229814,  0.00246076, -0.00482607,  0.00252575,\n",
       "        -0.0054915 , -0.0015017 ,  0.00261443, -0.00298819,  0.00265856,\n",
       "        -0.00446097,  0.00244817, -0.00266826,  0.0028358 , -0.00263845,\n",
       "         0.00428245, -0.00465027, -0.00481888,  0.00260839, -0.00387001,\n",
       "        -0.00256646, -0.00028972, -0.00442745, -0.00110654, -0.00456691,\n",
       "         0.0052876 , -0.00046874, -0.00088008, -0.002619  ,  0.00367187,\n",
       "        -0.00435175, -0.00654802, -0.00314717,  0.00451202,  0.0013144 ,\n",
       "         0.00484008,  0.00140865, -0.00251992, -0.00243362,  0.00468593,\n",
       "        -0.00481166, -0.00431929, -0.00465212, -0.00444278, -0.00453394,\n",
       "        -0.00058051,  0.0025113 ,  0.00113605,  0.00284486, -0.00238848,\n",
       "        -0.00463672, -0.00017262,  0.00472881, -0.00240732,  0.00223233,\n",
       "        -0.00273259, -0.00257764, -0.00476452, -0.00345666,  0.00308811,\n",
       "         0.00481267, -0.00396396, -0.0012888 , -0.00292342, -0.0043699 ,\n",
       "        -0.00235545,  0.00260349, -0.00568163, -0.00245943,  0.00433654,\n",
       "         0.00374035, -0.00401554,  0.0046113 ,  0.00461439, -0.002417  ,\n",
       "         0.0060554 , -0.00271228, -0.00412268, -0.00302739, -0.00443973,\n",
       "         0.00367824,  0.00250168,  0.00312376, -0.00274378, -0.00424773,\n",
       "        -0.00181788,  0.00232875,  0.00226971,  0.00511967,  0.00275191,\n",
       "         0.00258809, -0.00261121, -0.00208533,  0.00474703,  0.00186878,\n",
       "        -0.00287902,  0.00041715,  0.00413086,  0.00335791,  0.00453605,\n",
       "        -0.0047903 , -0.00503473, -0.0014854 ,  0.00483514, -0.00452212,\n",
       "        -0.0026651 , -0.00468064, -0.0018878 ,  0.00436896,  0.0020257 ,\n",
       "        -0.0013333 ,  0.00211327,  0.00306407,  0.001579  ,  0.0030063 ,\n",
       "        -0.00332158,  0.00248305,  0.00263569, -0.00216133, -0.00254156,\n",
       "        -0.00205192, -0.00154002,  0.00357503], dtype=float32),\n",
       " array([[ 0.12615563],\n",
       "        [ 0.0716472 ],\n",
       "        [-0.10830494],\n",
       "        [ 0.15189846],\n",
       "        [-0.08638141],\n",
       "        [-0.15337659],\n",
       "        [ 0.17742795],\n",
       "        [-0.05177302],\n",
       "        [-0.15160446],\n",
       "        [-0.14858128],\n",
       "        [-0.18495533],\n",
       "        [ 0.13919801],\n",
       "        [-0.09578881],\n",
       "        [ 0.16141354],\n",
       "        [ 0.11412548],\n",
       "        [-0.01605924],\n",
       "        [-0.07973787],\n",
       "        [-0.12041061],\n",
       "        [-0.06658844],\n",
       "        [ 0.15024883],\n",
       "        [ 0.02232847],\n",
       "        [-0.16702493],\n",
       "        [ 0.08515899],\n",
       "        [ 0.04814494],\n",
       "        [ 0.11578464],\n",
       "        [ 0.01422004],\n",
       "        [ 0.03111313],\n",
       "        [ 0.17711191],\n",
       "        [-0.15293437],\n",
       "        [-0.02404188],\n",
       "        [-0.11760636],\n",
       "        [ 0.03003106],\n",
       "        [ 0.00233333],\n",
       "        [ 0.16909403],\n",
       "        [-0.01698495],\n",
       "        [ 0.15863769],\n",
       "        [-0.15997958],\n",
       "        [ 0.08046662],\n",
       "        [-0.20321454],\n",
       "        [ 0.00654637],\n",
       "        [-0.05153304],\n",
       "        [ 0.08739875],\n",
       "        [-0.18131238],\n",
       "        [ 0.15782815],\n",
       "        [ 0.17394291],\n",
       "        [-0.09414186],\n",
       "        [-0.2176666 ],\n",
       "        [-0.04999435],\n",
       "        [ 0.15723683],\n",
       "        [-0.01640065],\n",
       "        [ 0.01801886],\n",
       "        [ 0.08969827],\n",
       "        [-0.05782656],\n",
       "        [-0.15135875],\n",
       "        [-0.09980009],\n",
       "        [-0.19499494],\n",
       "        [-0.18721047],\n",
       "        [ 0.04447013],\n",
       "        [ 0.20392936],\n",
       "        [-0.11557715],\n",
       "        [ 0.15348923],\n",
       "        [-0.01881368],\n",
       "        [-0.15126549],\n",
       "        [ 0.19466817],\n",
       "        [ 0.2011271 ],\n",
       "        [ 0.08897226],\n",
       "        [-0.08997011],\n",
       "        [ 0.10278573],\n",
       "        [ 0.05991225],\n",
       "        [-0.15028225],\n",
       "        [ 0.0258229 ],\n",
       "        [-0.07176249],\n",
       "        [ 0.21395604],\n",
       "        [ 0.13599814],\n",
       "        [ 0.14806652],\n",
       "        [ 0.12867862],\n",
       "        [-0.12517561],\n",
       "        [-0.09385838],\n",
       "        [ 0.17061557],\n",
       "        [ 0.14135601],\n",
       "        [-0.00704915],\n",
       "        [ 0.03713175],\n",
       "        [-0.18017384],\n",
       "        [-0.20325096],\n",
       "        [ 0.19275491],\n",
       "        [ 0.01855231],\n",
       "        [-0.20442823],\n",
       "        [ 0.05298045],\n",
       "        [ 0.00534724],\n",
       "        [ 0.16522066],\n",
       "        [-0.0041092 ],\n",
       "        [ 0.09595274],\n",
       "        [ 0.18151559],\n",
       "        [-0.19119982],\n",
       "        [-0.15748274],\n",
       "        [ 0.08186536],\n",
       "        [-0.07551647],\n",
       "        [-0.20278387],\n",
       "        [ 0.10391648],\n",
       "        [ 0.06988548],\n",
       "        [-0.13808943],\n",
       "        [-0.19124971],\n",
       "        [-0.18105786],\n",
       "        [ 0.16139868],\n",
       "        [ 0.01553376],\n",
       "        [-0.00107039],\n",
       "        [-0.16535476],\n",
       "        [-0.17118599],\n",
       "        [ 0.12524781],\n",
       "        [-0.20042878],\n",
       "        [-0.08038545],\n",
       "        [-0.11838352],\n",
       "        [-0.16430613],\n",
       "        [ 0.03137473],\n",
       "        [-0.19294937],\n",
       "        [ 0.1421005 ],\n",
       "        [ 0.13979962],\n",
       "        [ 0.04392609],\n",
       "        [-0.06503692],\n",
       "        [ 0.07356957],\n",
       "        [-0.06832512],\n",
       "        [ 0.1063745 ],\n",
       "        [ 0.10800426],\n",
       "        [ 0.0223165 ],\n",
       "        [-0.11749275],\n",
       "        [ 0.11041562],\n",
       "        [ 0.21250238],\n",
       "        [-0.03827232]], dtype=float32),\n",
       " array([-0.00132929], dtype=float32)]"
      ]
     },
     "execution_count": 104,
     "metadata": {},
     "output_type": "execute_result"
    }
   ],
   "source": [
    "model.get_weights()"
   ]
  },
  {
   "cell_type": "code",
   "execution_count": null,
   "metadata": {
    "collapsed": true
   },
   "outputs": [],
   "source": [
    "# print('Train...')\n",
    "# print(X_train.shape)\n",
    "# print(y_train.shape)\n",
    "# model.fit(X_train, y_train, batch_size=batch_size, nb_epoch=15,\n",
    "#           validation_data=(X_test, y_test))\n",
    "# score, acc = model.evaluate(X_test, y_test,\n",
    "#                             batch_size=batch_size)\n",
    "# print('Test score:', score)\n",
    "# print('Test accuracy:', acc)"
   ]
  },
  {
   "cell_type": "code",
   "execution_count": null,
   "metadata": {
    "collapsed": true
   },
   "outputs": [],
   "source": []
  },
  {
   "cell_type": "code",
   "execution_count": null,
   "metadata": {
    "collapsed": true
   },
   "outputs": [],
   "source": []
  },
  {
   "cell_type": "code",
   "execution_count": null,
   "metadata": {
    "collapsed": true
   },
   "outputs": [],
   "source": []
  },
  {
   "cell_type": "code",
   "execution_count": null,
   "metadata": {
    "collapsed": true
   },
   "outputs": [],
   "source": []
  },
  {
   "cell_type": "code",
   "execution_count": null,
   "metadata": {
    "collapsed": true
   },
   "outputs": [],
   "source": []
  },
  {
   "cell_type": "code",
   "execution_count": null,
   "metadata": {
    "collapsed": true
   },
   "outputs": [],
   "source": []
  },
  {
   "cell_type": "code",
   "execution_count": null,
   "metadata": {
    "collapsed": true
   },
   "outputs": [],
   "source": []
  },
  {
   "cell_type": "code",
   "execution_count": null,
   "metadata": {
    "collapsed": true
   },
   "outputs": [],
   "source": []
  }
 ],
 "metadata": {
  "kernelspec": {
   "display_name": "Python 2",
   "language": "python",
   "name": "python2"
  },
  "language_info": {
   "codemirror_mode": {
    "name": "ipython",
    "version": 2
   },
   "file_extension": ".py",
   "mimetype": "text/x-python",
   "name": "python",
   "nbconvert_exporter": "python",
   "pygments_lexer": "ipython2",
   "version": "2.7.11"
  }
 },
 "nbformat": 4,
 "nbformat_minor": 0
}
